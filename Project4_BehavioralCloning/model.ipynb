{
 "metadata": {
  "language_info": {
   "codemirror_mode": {
    "name": "ipython",
    "version": 3
   },
   "file_extension": ".py",
   "mimetype": "text/x-python",
   "name": "python",
   "nbconvert_exporter": "python",
   "pygments_lexer": "ipython3",
   "version": "3.7.7-final"
  },
  "orig_nbformat": 2,
  "kernelspec": {
   "name": "python_defaultSpec_1599393450470",
   "display_name": "Python 3.7.7 64-bit ('tf1_cpu_env': conda)"
  }
 },
 "nbformat": 4,
 "nbformat_minor": 2,
 "cells": [
  {
   "cell_type": "markdown",
   "metadata": {},
   "source": [
    "# Data Processing"
   ]
  },
  {
   "cell_type": "code",
   "execution_count": 9,
   "metadata": {
    "tags": []
   },
   "outputs": [
    {
     "output_type": "stream",
     "name": "stdout",
     "text": "center\nleft\nright\n"
    }
   ],
   "source": [
    "import numpy as np\n",
    "import pandas as pd\n",
    "import matplotlib.pyplot as plt\n",
    "\n",
    "# Activate below when using Udacity Workspace\n",
    "# PATH            = '/opt/carnd_p3/data/'\n",
    "# data            = pd.read_csv(\"/opt/carnd_p3/data/driving_log.csv\")\n",
    "    \n",
    "# Activate below when using Local Workspace\n",
    "PATH            = './data/IMG/'\n",
    "data            = pd.read_csv(\"./data/driving_log.csv\")\n",
    "\n",
    "images_center   = []\n",
    "images_left     = []\n",
    "images_right    = []\n",
    "\n",
    "for line in data.loc[:, 'center':'right']:\n",
    "    for f_center, f_left, f_right in line:\n",
    "        f_center    = f_center.split('/')[-1]\n",
    "        f_left      = f_center.split('/')[-1]\n",
    "        f_right     = f_right.split('/')[-1]\n",
    "        images_center.append(plt.imread(PATH + f_center))\n",
    "        images_left.append(plt.imread(PATH + f_left))\n",
    "        images_right.append(plt.imread(PATH + f_right))\n",
    "\n",
    "images_center   = np.array(images_center)\n",
    "images_left     = np.array(images_left)\n",
    "images_right    = np.array(image_right)\n",
    "\n",
    "# print(images_center.shape)\n",
    "# print(images_left.shape)\n",
    "# print(images_right.shape)\n",
    "\n",
    "# steering        = data.loc[:, 'steering'].to_numpy()"
   ]
  },
  {
   "cell_type": "markdown",
   "metadata": {},
   "source": [
    "# Model"
   ]
  },
  {
   "cell_type": "code",
   "execution_count": 18,
   "metadata": {
    "tags": []
   },
   "outputs": [],
   "source": [
    "from keras.models import Sequential, Model\n",
    "from keras.layers import Flatten, Dense, Lambda, Cropping2D, Conv2D\n",
    "\n",
    "model = Sequential()\n",
    "model.add(Lambda(lambda x: (x / 255.0) - 0.5, input_shape=(160,320,3)))\n",
    "model.add(Cropping2D(cropping=((50,20), (0,0)), input_shape=(160,320,3)))\n",
    "model.add(Conv2D(24, kernel_size = (5, 5), strides= (2, 2), padding= 'valid', activation='relu'))\n",
    "model.add(Conv2D(36, kernel_size = (5, 5), strides= (2, 2), padding= 'valid', activation='relu'))\n",
    "model.add(Conv2D(48, kernel_size = (5, 5), strides= (2, 2), padding= 'valid', activation='relu'))\n",
    "model.add(Conv2D(64, kernel_size = (3, 3), strides= (2, 1), padding= 'valid', activation='relu'))\n",
    "model.add(Conv2D(64, kernel_size = (3, 3), strides= (2, 1), padding= 'valid', activation='relu'))\n",
    "model.add(Flatten())\n",
    "model.add(Dense(100))\n",
    "model.add(Dense(50))\n",
    "model.add(Dense(10))\n",
    "model.add(Dense(1))\n",
    "\n",
    "model.compile(loss = 'mse', optimizer = 'adam')\n",
    "model.fit(X_train, y_train, validation_split = 0.2, shuffle = True, nb_epoch = 5) \n",
    "\n",
    "model.save('model.h5')\n"
   ]
  }
 ]
}